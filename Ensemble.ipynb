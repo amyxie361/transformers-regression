{
 "cells": [
  {
   "cell_type": "code",
   "execution_count": 1,
   "id": "11315ecb",
   "metadata": {},
   "outputs": [],
   "source": [
    "import logging\n",
    "import os\n",
    "os.environ['CUDA_VISIBLE_DEVICES'] = \"3\"\n",
    "import random\n",
    "import sys\n",
    "from dataclasses import dataclass, field\n",
    "from typing import Optional\n",
    "\n",
    "import datasets\n",
    "import numpy as np\n",
    "from datasets import load_dataset, load_metric\n",
    "\n",
    "import transformers\n",
    "from transformers import (\n",
    "    AutoConfig,\n",
    "    AutoModelForSequenceClassification,\n",
    "    AutoTokenizer,\n",
    "    DataCollatorWithPadding,\n",
    "    EvalPrediction,\n",
    "    HfArgumentParser,\n",
    "    PretrainedConfig,\n",
    "    Trainer,\n",
    "    TrainingArguments,\n",
    "    default_data_collator,\n",
    "    set_seed,\n",
    ")\n",
    "from modeling_distill import BertForDistillSequenceClassification\n",
    "from transformers.trainer_utils import get_last_checkpoint\n",
    "from transformers.utils import check_min_version\n",
    "from transformers.utils.versions import require_version\n",
    "\n",
    "from scipy.special import softmax\n"
   ]
  },
  {
   "cell_type": "code",
   "execution_count": 10,
   "id": "58094524",
   "metadata": {},
   "outputs": [],
   "source": [
    "def get_labels(model):\n",
    "# model = \"mrpc/baseline_base_seed0_BS64_lr9e-5_epoch3/predict_results_mrpc.txt\"\n",
    "\n",
    "    model_file = open(model,'r')\n",
    "    model_labels = [line.split(\"\\t\")[-1].strip() for line in model_file][1:]\n",
    "    model_labels = [1 if t==\"equivalent\" else 0 for t in model_labels]\n",
    "    return model_labels"
   ]
  },
  {
   "cell_type": "code",
   "execution_count": 12,
   "id": "5cb1ec70",
   "metadata": {},
   "outputs": [],
   "source": [
    "def ensemble(l):\n",
    "    ret = []\n",
    "    \n",
    "    for i in range(len(l[0])):\n",
    "        vot = 0\n",
    "        for j in range(len(l)):\n",
    "            vot += l[j][i]\n",
    "        if vot > 2:\n",
    "            ret.append(1)\n",
    "        else:\n",
    "            ret.append(0)\n",
    "    return ret"
   ]
  },
  {
   "cell_type": "code",
   "execution_count": 20,
   "id": "8f67abd1",
   "metadata": {},
   "outputs": [],
   "source": [
    "l = []\n",
    "for m in [1,2,3,4,5]:\n",
    "    l.append(get_labels(\"mrpc/baseline_large_seed{}_BS32_lr3e-5_epoch3/predict_results_mrpc.txt\".format(m)))\n",
    "    "
   ]
  },
  {
   "cell_type": "code",
   "execution_count": 21,
   "id": "6cae71b8",
   "metadata": {},
   "outputs": [],
   "source": [
    "ens_ret = ensemble(l)"
   ]
  },
  {
   "cell_type": "code",
   "execution_count": 22,
   "id": "d1d5b1a2",
   "metadata": {},
   "outputs": [],
   "source": [
    "!mkdir mrpc/baseline_large_ensemble/"
   ]
  },
  {
   "cell_type": "code",
   "execution_count": 23,
   "id": "4ad5a98a",
   "metadata": {},
   "outputs": [],
   "source": [
    "f = open(\"mrpc/baseline_large_ensemble/predict_results_mrpc.txt\",'w')\n",
    "f.write(\"index\\tprediction\\n\")\n",
    "for i, x in enumerate(ens_ret):\n",
    "    if x == 1:\n",
    "        f.write(str(i) + \"\\tequivalent\\n\")\n",
    "    else:\n",
    "        f.write(str(i) + \"\\tnot_equivalent\\n\")\n",
    "\n",
    "f.close()"
   ]
  },
  {
   "cell_type": "code",
   "execution_count": 2,
   "id": "56ca183e",
   "metadata": {
    "scrolled": true
   },
   "outputs": [],
   "source": [
    "task = \"mrpc\"\n",
    "old_model = \"mrpc/base_seed0_BS32_lr3e-5_epoch4\"\n",
    "# old_model = \"qqp/baseline_base_seed0_BS64_lr9e-5_epoch5\"\n",
    "config = AutoConfig.from_pretrained(\n",
    "    old_model,\n",
    "    num_labels=2,\n",
    "    finetuning_task=task\n",
    ")\n",
    "tokenizer = AutoTokenizer.from_pretrained(\n",
    "    old_model,\n",
    ")\n",
    "tea_model = AutoModelForSequenceClassification.from_pretrained(\n",
    "    old_model,\n",
    "    config=config,\n",
    ")\n",
    "trainer = Trainer(\n",
    "    model=tea_model,\n",
    "    tokenizer=tokenizer,\n",
    ")\n"
   ]
  },
  {
   "cell_type": "code",
   "execution_count": 3,
   "id": "83a19c0d",
   "metadata": {},
   "outputs": [
    {
     "name": "stderr",
     "output_type": "stream",
     "text": [
      "Reusing dataset glue (/home/ec2-user/.cache/huggingface/datasets/glue/mrpc/1.0.0/dacbe3125aa31d7f70367a07a8a9e72a5a0bfeb5fc42e75c9db75b96da6053ad)\n"
     ]
    },
    {
     "data": {
      "application/vnd.jupyter.widget-view+json": {
       "model_id": "74c60bd10af6409e8a59a89c0b33f6b6",
       "version_major": 2,
       "version_minor": 0
      },
      "text/plain": [
       "  0%|          | 0/3 [00:00<?, ?it/s]"
      ]
     },
     "metadata": {},
     "output_type": "display_data"
    },
    {
     "name": "stderr",
     "output_type": "stream",
     "text": [
      "Loading cached processed dataset at /home/ec2-user/.cache/huggingface/datasets/glue/mrpc/1.0.0/dacbe3125aa31d7f70367a07a8a9e72a5a0bfeb5fc42e75c9db75b96da6053ad/cache-ea916b755ec3b506.arrow\n",
      "Loading cached processed dataset at /home/ec2-user/.cache/huggingface/datasets/glue/mrpc/1.0.0/dacbe3125aa31d7f70367a07a8a9e72a5a0bfeb5fc42e75c9db75b96da6053ad/cache-12ded0ffec826fdd.arrow\n",
      "Loading cached processed dataset at /home/ec2-user/.cache/huggingface/datasets/glue/mrpc/1.0.0/dacbe3125aa31d7f70367a07a8a9e72a5a0bfeb5fc42e75c9db75b96da6053ad/cache-3f0b6fbcfadb607d.arrow\n"
     ]
    }
   ],
   "source": [
    "\n",
    "task_to_keys = {\n",
    "    \"cola\": (\"sentence\", None),\n",
    "    \"mnli\": (\"premise\", \"hypothesis\"),\n",
    "    \"mrpc\": (\"sentence1\", \"sentence2\"),\n",
    "    \"qnli\": (\"question\", \"sentence\"),\n",
    "    \"qqp\": (\"question1\", \"question2\"),\n",
    "    \"rte\": (\"sentence1\", \"sentence2\"),\n",
    "    \"sst2\": (\"sentence\", None),\n",
    "    \"stsb\": (\"sentence1\", \"sentence2\"),\n",
    "    \"wnli\": (\"sentence1\", \"sentence2\"),\n",
    "}\n",
    "\n",
    "\n",
    "# Preprocessing the raw_datasets\n",
    "\n",
    "sentence1_key, sentence2_key = \"sentence1\", \"sentence2\"\n",
    "# sentence1_key, sentence2_key = \"question1\", \"question2\"\n",
    "\n",
    "\n",
    "\n",
    "def preprocess_function(examples):\n",
    "    # Tokenize the texts\n",
    "#     print(examples)\n",
    "    args = (\n",
    "        (examples[sentence1_key],) if sentence2_key is None else (examples[sentence1_key], examples[sentence2_key])\n",
    "    )\n",
    "    result = tokenizer(*args, padding=True, max_length=128, truncation=True)\n",
    "\n",
    "    # Map labels to IDs (not necessary for GLUE tasks)\n",
    "#     if label_to_id is not None and \"label\" in examples:\n",
    "#         result[\"label\"] = [(label_to_id[l] if l != -1 else -1) for l in examples[\"label\"]]\n",
    "    return result\n",
    "\n",
    "raw_datasets = load_dataset(\"glue\", task)\n",
    "raw_datasets = raw_datasets.map(\n",
    "    preprocess_function,\n",
    "    batched=True,\n",
    "    desc=\"Running tokenizer on dataset\",\n",
    ")\n",
    "    \n",
    "\n",
    "\n",
    "train_dataset = raw_datasets[\"train\"]\n",
    "\n",
    "eval_dataset = raw_datasets[\"validation\"]\n",
    "\n",
    "predict_dataset = raw_datasets[\"test\"]\n",
    "\n",
    "label_list = raw_datasets[\"train\"].features[\"label\"].names\n",
    "\n"
   ]
  },
  {
   "cell_type": "code",
   "execution_count": 4,
   "id": "01afd651",
   "metadata": {},
   "outputs": [
    {
     "name": "stderr",
     "output_type": "stream",
     "text": [
      "The following columns in the test set  don't have a corresponding argument in `BertForSequenceClassification.forward` and have been ignored: idx, sentence1, sentence2.\n",
      "***** Running Prediction *****\n",
      "  Num examples = 408\n",
      "  Batch size = 8\n"
     ]
    },
    {
     "data": {
      "text/html": [
       "\n",
       "    <div>\n",
       "      \n",
       "      <progress value='51' max='51' style='width:300px; height:20px; vertical-align: middle;'></progress>\n",
       "      [51/51 00:01]\n",
       "    </div>\n",
       "    "
      ],
      "text/plain": [
       "<IPython.core.display.HTML object>"
      ]
     },
     "metadata": {},
     "output_type": "display_data"
    }
   ],
   "source": [
    "old_output = trainer.predict(raw_datasets[\"validation\"], metric_key_prefix=\"predict\")\n",
    "old_prob = softmax(old_output.predictions, axis=1)"
   ]
  },
  {
   "cell_type": "code",
   "execution_count": 5,
   "id": "d4c2fe1c",
   "metadata": {
    "scrolled": true
   },
   "outputs": [
    {
     "name": "stderr",
     "output_type": "stream",
     "text": [
      "loading configuration file gated_v4/mrpc_new/gatedfinal_large_seed3_BS12_lr3e-6_epoch3_3/config.json\n",
      "Model config BertConfig {\n",
      "  \"_name_or_path\": \"gated_v4/mrpc_new/gatedinit_large_seed3_BS12_lr3e-6_initepoch3\",\n",
      "  \"architectures\": [\n",
      "    \"BertForGatedSequenceClassification\"\n",
      "  ],\n",
      "  \"attention_probs_dropout_prob\": 0.1,\n",
      "  \"classifier_dropout\": null,\n",
      "  \"directionality\": \"bidi\",\n",
      "  \"finetuning_task\": \"mrpc\",\n",
      "  \"gradient_checkpointing\": false,\n",
      "  \"hidden_act\": \"gelu\",\n",
      "  \"hidden_dropout_prob\": 0.1,\n",
      "  \"hidden_size\": 1024,\n",
      "  \"id2label\": {\n",
      "    \"0\": 0,\n",
      "    \"1\": 1\n",
      "  },\n",
      "  \"initializer_range\": 0.02,\n",
      "  \"intermediate_size\": 4096,\n",
      "  \"label2id\": {\n",
      "    \"0\": 0,\n",
      "    \"1\": 1\n",
      "  },\n",
      "  \"layer_norm_eps\": 1e-12,\n",
      "  \"max_position_embeddings\": 512,\n",
      "  \"model_type\": \"bert\",\n",
      "  \"num_attention_heads\": 16,\n",
      "  \"num_hidden_layers\": 24,\n",
      "  \"pad_token_id\": 0,\n",
      "  \"pooler_fc_size\": 768,\n",
      "  \"pooler_num_attention_heads\": 12,\n",
      "  \"pooler_num_fc_layers\": 3,\n",
      "  \"pooler_size_per_head\": 128,\n",
      "  \"pooler_type\": \"first_token_transform\",\n",
      "  \"position_embedding_type\": \"absolute\",\n",
      "  \"problem_type\": \"single_label_classification\",\n",
      "  \"torch_dtype\": \"float32\",\n",
      "  \"train_gate\": true,\n",
      "  \"transformers_version\": \"4.11.2\",\n",
      "  \"type_vocab_size\": 2,\n",
      "  \"use_cache\": true,\n",
      "  \"vocab_size\": 28996\n",
      "}\n",
      "\n",
      "Didn't find file gated_v4/mrpc_new/gatedfinal_large_seed3_BS12_lr3e-6_epoch3_3/added_tokens.json. We won't load it.\n",
      "loading file gated_v4/mrpc_new/gatedfinal_large_seed3_BS12_lr3e-6_epoch3_3/vocab.txt\n",
      "loading file gated_v4/mrpc_new/gatedfinal_large_seed3_BS12_lr3e-6_epoch3_3/tokenizer.json\n",
      "loading file None\n",
      "loading file gated_v4/mrpc_new/gatedfinal_large_seed3_BS12_lr3e-6_epoch3_3/special_tokens_map.json\n",
      "loading file gated_v4/mrpc_new/gatedfinal_large_seed3_BS12_lr3e-6_epoch3_3/tokenizer_config.json\n",
      "loading weights file gated_v4/mrpc_new/gatedfinal_large_seed3_BS12_lr3e-6_epoch3_3/pytorch_model.bin\n",
      "All model checkpoint weights were used when initializing BertForGatedSequenceClassification.\n",
      "\n",
      "All the weights of BertForGatedSequenceClassification were initialized from the model checkpoint at gated_v4/mrpc_new/gatedfinal_large_seed3_BS12_lr3e-6_epoch3_3.\n",
      "If your task is similar to the task the model of the checkpoint was trained on, you can already use BertForGatedSequenceClassification for predictions without further training.\n",
      "No `TrainingArguments` passed, using `output_dir=tmp_trainer`.\n",
      "PyTorch: setting up devices\n",
      "The default value for the training argument `--report_to` will change in v5 (from all installed integrations to none). In v5, you will need to use `--report_to all` to get the same behavior as now. You should start updating your code and make this info disappear :-).\n"
     ]
    }
   ],
   "source": [
    "from modeling_BFSC_2l import BertForGatedSequenceClassification\n",
    "\n",
    "seed = 3\n",
    "# new_model = \"qqp/baseline_large_seed{}_BS32_lr3e-5_epoch5\".format(seed)\n",
    "new_model = \"gated_v4/mrpc_new/gatedfinal_large_seed{}_BS12_lr3e-6_epoch3_3\".format(seed)\n",
    "config = AutoConfig.from_pretrained(\n",
    "    new_model,\n",
    "    num_labels=2,\n",
    "    finetuning_task=task,\n",
    "#     output_hidden_states=True\n",
    ")\n",
    "tokenizer = AutoTokenizer.from_pretrained(\n",
    "    new_model,\n",
    ")\n",
    "model = BertForGatedSequenceClassification.from_pretrained(\n",
    "    new_model,\n",
    "    teacher_model=tea_model,\n",
    "    config=config,\n",
    ")\n",
    "trainer = Trainer(\n",
    "    model=model,\n",
    "    tokenizer=tokenizer,\n",
    ")\n",
    "\n",
    "\n",
    "output = trainer.predict(raw_datasets[\"validation\"], metric_key_prefix=\"eval\")\n",
    "new_prob = softmax(output.predictions, axis=1)"
   ]
  },
  {
   "cell_type": "markdown",
   "id": "122659f7",
   "metadata": {},
   "source": [
    "## Ensemble Old & New:"
   ]
  },
  {
   "cell_type": "code",
   "execution_count": 55,
   "id": "f50a4364",
   "metadata": {},
   "outputs": [
    {
     "ename": "FileExistsError",
     "evalue": "[Errno 17] File exists: 'mrpc/old_new_base_seed3'",
     "output_type": "error",
     "traceback": [
      "\u001b[0;31m---------------------------------------------------------------------------\u001b[0m",
      "\u001b[0;31mFileExistsError\u001b[0m                           Traceback (most recent call last)",
      "\u001b[0;32m<ipython-input-55-20aaf9dbf06b>\u001b[0m in \u001b[0;36m<module>\u001b[0;34m\u001b[0m\n\u001b[1;32m      1\u001b[0m \u001b[0;32mimport\u001b[0m \u001b[0mos\u001b[0m\u001b[0;34m\u001b[0m\u001b[0;34m\u001b[0m\u001b[0m\n\u001b[0;32m----> 2\u001b[0;31m \u001b[0mos\u001b[0m\u001b[0;34m.\u001b[0m\u001b[0mmkdir\u001b[0m\u001b[0;34m(\u001b[0m\u001b[0;34m\"mrpc/old_new_base_seed{}\"\u001b[0m\u001b[0;34m.\u001b[0m\u001b[0mformat\u001b[0m\u001b[0;34m(\u001b[0m\u001b[0mseed\u001b[0m\u001b[0;34m)\u001b[0m\u001b[0;34m)\u001b[0m\u001b[0;34m\u001b[0m\u001b[0;34m\u001b[0m\u001b[0m\n\u001b[0m",
      "\u001b[0;31mFileExistsError\u001b[0m: [Errno 17] File exists: 'mrpc/old_new_base_seed3'"
     ]
    }
   ],
   "source": [
    "import os\n",
    "os.mkdir(\"mrpc/old_new_base_seed{}\".format(seed))"
   ]
  },
  {
   "cell_type": "code",
   "execution_count": 48,
   "id": "eae56c4e",
   "metadata": {},
   "outputs": [],
   "source": [
    "\n",
    "predictions = np.argmax(new_prob + old_prob, axis=1)\n",
    "with open(\"mrpc/old_new_base_seed{}/predict_results_mrpc.txt\".format(seed), \"w\") as writer:\n",
    "#     logger.info(f\"***** Predict results {task} *****\")\n",
    "    writer.write(\"index\\tprediction\\n\")\n",
    "    for index, item in enumerate(predictions):\n",
    "#         if is_regression:\n",
    "#             writer.write(f\"{index}\\t{item:3.3f}\\n\")\n",
    "#         else:\n",
    "        item = label_list[item]\n",
    "        writer.write(f\"{index}\\t{item}\\n\")"
   ]
  },
  {
   "cell_type": "code",
   "execution_count": 6,
   "id": "22696f10",
   "metadata": {},
   "outputs": [],
   "source": [
    "from torch.utils.data import DataLoader, Dataset, IterableDataset, RandomSampler, SequentialSampler\n",
    "from transformers.data.data_collator import default_data_collator, DataCollatorWithPadding\n",
    "test_dataloader = DataLoader(\n",
    "    raw_datasets[\"validation\"],\n",
    "    collate_fn=default_data_collator,\n",
    "    batch_size=8,\n",
    "#     collate_fn=DataCollatorWithPadding(tokenizer),\n",
    "#                 num_workers=self.args.dataloader_num_workers,\n",
    "#                 pin_memory=self.args.dataloader_pin_memory,\n",
    ")\n",
    "\n"
   ]
  },
  {
   "cell_type": "code",
   "execution_count": 7,
   "id": "83151a7e",
   "metadata": {},
   "outputs": [],
   "source": [
    "import torch\n",
    "outputs = []\n",
    "model.eval()\n",
    "labels = []\n",
    "for x in test_dataloader:\n",
    "    y = {\n",
    "        \"input_ids\": x[\"input_ids\"].to(\"cuda\"),\n",
    "        \"attention_mask\": x[\"attention_mask\"].to(\"cuda\"),\n",
    "        \"token_type_ids\": x[\"token_type_ids\"].to(\"cuda\"),\n",
    "        \"labels\": x[\"labels\"].to(\"cuda\"),\n",
    "        }\n",
    "    labels.append(x[\"labels\"])\n",
    "    with torch.no_grad():\n",
    "        output = model(\n",
    "            input_ids=y[\"input_ids\"],\n",
    "            attention_mask=y[\"attention_mask\"],\n",
    "            token_type_ids=y[\"token_type_ids\"],\n",
    "            labels=y[\"labels\"],\n",
    "            output_hidden_states=True,\n",
    "            return_dict=False\n",
    "        )\n",
    "\n",
    "#     print(output[3])\n",
    "#     input()\n",
    "    del y\n",
    "    torch.cuda.empty_cache()\n",
    "    outputs.append(output[3])"
   ]
  },
  {
   "cell_type": "code",
   "execution_count": 8,
   "id": "93e57579",
   "metadata": {},
   "outputs": [
    {
     "data": {
      "text/plain": [
       "408"
      ]
     },
     "execution_count": 8,
     "metadata": {},
     "output_type": "execute_result"
    }
   ],
   "source": [
    "gates = []\n",
    "for out in outputs:\n",
    "    gates += [x[0] for x in out.tolist()]\n",
    "len(gates)\n"
   ]
  },
  {
   "cell_type": "code",
   "execution_count": 9,
   "id": "dd51a073",
   "metadata": {},
   "outputs": [],
   "source": [
    "ls = []\n",
    "for l in labels:\n",
    "    ls += [x for x in l.tolist()]\n",
    "# ls"
   ]
  },
  {
   "cell_type": "code",
   "execution_count": 10,
   "id": "ed01a54f",
   "metadata": {},
   "outputs": [],
   "source": [
    "old_labels = []\n",
    "for p in old_prob:\n",
    "#     print(p)\n",
    "    if p[0] >= p[1]:\n",
    "        old_labels.append(0)\n",
    "    else:\n",
    "         old_labels.append(1)\n",
    "# old_labels"
   ]
  },
  {
   "cell_type": "code",
   "execution_count": 16,
   "id": "2bd11312",
   "metadata": {},
   "outputs": [],
   "source": [
    "# old_output\n",
    "# output.predictions\n",
    "# (n -  (1-g) * o ) / g = on +\n",
    "gates = np.array(gates)\n",
    "old_l = np.transpose(old_output.predictions)\n",
    "ot = (1 - gates) * old_l\n",
    "m = np.transpose(output.predictions) - ot\n",
    "new_logits = m / gates\n",
    "new_logits = np.transpose(new_logits)\n"
   ]
  },
  {
   "cell_type": "code",
   "execution_count": 18,
   "id": "781cea94",
   "metadata": {},
   "outputs": [
    {
     "data": {
      "text/plain": [
       "False"
      ]
     },
     "execution_count": 18,
     "metadata": {},
     "output_type": "execute_result"
    }
   ],
   "source": [
    "old_labels == orig_new_labels"
   ]
  },
  {
   "cell_type": "code",
   "execution_count": 17,
   "id": "1fd104f5",
   "metadata": {},
   "outputs": [],
   "source": [
    "orig_new_labels = []\n",
    "for p in new_logits:\n",
    "#     print(p)\n",
    "    if p[0] >= p[1]:\n",
    "        orig_new_labels.append(0)\n",
    "    else:\n",
    "        orig_new_labels.append(1)\n",
    "# orig_new_labels"
   ]
  },
  {
   "cell_type": "code",
   "execution_count": 13,
   "id": "cbc02937",
   "metadata": {},
   "outputs": [
    {
     "name": "stderr",
     "output_type": "stream",
     "text": [
      "The following columns in the test set  don't have a corresponding argument in `BertForGatedSequenceClassification.forward` and have been ignored: idx, sentence1, sentence2.\n",
      "***** Running Prediction *****\n",
      "  Num examples = 408\n",
      "  Batch size = 8\n"
     ]
    },
    {
     "data": {
      "text/html": [
       "\n",
       "    <div>\n",
       "      \n",
       "      <progress value='51' max='51' style='width:300px; height:20px; vertical-align: middle;'></progress>\n",
       "      [51/51 00:03]\n",
       "    </div>\n",
       "    "
      ],
      "text/plain": [
       "<IPython.core.display.HTML object>"
      ]
     },
     "metadata": {},
     "output_type": "display_data"
    }
   ],
   "source": [
    "output = trainer.predict(raw_datasets[\"validation\"], metric_key_prefix=\"eval\")\n",
    "new_prob = softmax(output.predictions, axis=1)\n",
    "new_labels = []\n",
    "for p in new_prob:\n",
    "#     print(p)\n",
    "    if p[0] >= p[1]:\n",
    "        new_labels.append(0)\n",
    "    else:\n",
    "         new_labels.append(1)\n",
    "# new_labels"
   ]
  },
  {
   "cell_type": "code",
   "execution_count": 52,
   "id": "88b81875",
   "metadata": {},
   "outputs": [],
   "source": [
    "total = len(ls)\n",
    "pf = []\n",
    "nf = []\n",
    "pnf = []\n",
    "nnf = []\n",
    "fixed_nf = []\n",
    "fixed_f = []\n",
    "for i, l in enumerate(ls):\n",
    "    if l == orig_new_labels[i]:\n",
    "        if l == old_labels[i]:\n",
    "            pnf.append(i)\n",
    "        else:\n",
    "            pf.append(i)\n",
    "    else:\n",
    "        if new_labels[i] == l:\n",
    "            fixed_f.append(i)\n",
    "        if l == old_labels[i]:\n",
    "            nf.append(i)\n",
    "            if new_labels[i] == l:\n",
    "                fixed_nf.append(i)\n",
    "        else:\n",
    "            nnf.append(i)"
   ]
  },
  {
   "cell_type": "code",
   "execution_count": 53,
   "id": "00ac1995",
   "metadata": {
    "scrolled": true
   },
   "outputs": [
    {
     "data": {
      "text/plain": [
       "[338]"
      ]
     },
     "execution_count": 53,
     "metadata": {},
     "output_type": "execute_result"
    }
   ],
   "source": [
    "fixed_f"
   ]
  },
  {
   "cell_type": "code",
   "execution_count": 49,
   "id": "240fe070",
   "metadata": {},
   "outputs": [
    {
     "data": {
      "text/plain": [
       "Text(0, 0.5, 'Counts in Dev set')"
      ]
     },
     "execution_count": 49,
     "metadata": {},
     "output_type": "execute_result"
    },
    {
     "data": {
      "image/png": "[encoded data removed]",
      "text/plain": [
       "<Figure size 432x288 with 1 Axes>"
      ]
     },
     "metadata": {
      "needs_background": "light"
     },
     "output_type": "display_data"
    }
   ],
   "source": [
    "import matplotlib.pyplot as plt\n",
    "import seaborn as sns\n",
    "\n",
    "# bins = range(0.4, 0.7, 0.05)\n",
    "bins = np.linspace(0.45, 0.7, 80)\n",
    "# matplotlib histogram\n",
    "gates_pf = [gates[x] for x in pf]\n",
    "gates_nf = [gates[x] for x in nf]\n",
    "gates_pnf = [gates[x] for x in pnf]\n",
    "gates_nnf = [gates[x] for x in nnf]\n",
    "\n",
    "\n",
    "plt.hist(gates_pf, color = 'blue', edgecolor = 'black',bins=bins, alpha=0.8, label=\"PF\")\n",
    "plt.hist(gates_nf, color = 'yellow', edgecolor = 'black',bins=bins, alpha=0.8, label=\"NF\")\n",
    "# plt.hist(gates_pnf, color = 'green', edgecolor = 'black', bins=bins)\n",
    "plt.hist(gates_nnf, color = 'red', edgecolor = 'black',bins=bins, alpha=0.8, label=\"NNF\")\n",
    "\n",
    "# seaborn histogram\n",
    "# sns.distplot(gates, hist=True, kde=False, \n",
    "#              bins=bins, color = 'blue',\n",
    "#              hist_kws={'edgecolor':'black'})\n",
    "# Add labels\n",
    "plt.title('Histogram of Gate value Seed {}'.format(seed))\n",
    "plt.xlabel('gate value')\n",
    "plt.ylabel('Counts in Dev set')\n",
    "\n"
   ]
  },
  {
   "cell_type": "code",
   "execution_count": null,
   "id": "1f5a5a9e",
   "metadata": {},
   "outputs": [],
   "source": []
  }
 ],
 "metadata": {
  "kernelspec": {
   "display_name": "conda_pytorch_latest_p36",
   "language": "python",
   "name": "conda_pytorch_latest_p36"
  },
  "language_info": {
   "codemirror_mode": {
    "name": "ipython",
    "version": 3
   },
   "file_extension": ".py",
   "mimetype": "text/x-python",
   "name": "python",
   "nbconvert_exporter": "python",
   "pygments_lexer": "ipython3",
   "version": "3.6.13"
  }
 },
 "nbformat": 4,
 "nbformat_minor": 5
}
